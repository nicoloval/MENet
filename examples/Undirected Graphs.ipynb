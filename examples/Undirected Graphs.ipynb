{
 "cells": [
  {
   "source": [
    "The aim of the notebook is to help you to take confidence with the undirected graph class of NEMtropy. We will guide you through the functionality of the module and they can be use to reconstruct a network given partial information or to generate a null model given a certain network.\n",
    "For more detail about the theory behind this, we suggest you to read ....."
   ],
   "cell_type": "markdown",
   "metadata": {}
  },
  {
   "cell_type": "code",
   "execution_count": 1,
   "metadata": {},
   "outputs": [],
   "source": [
    "import numpy as np\n",
    "import networkx as nx\n",
    "from NEMtropy import UndirectedGraph, matrix_generator"
   ]
  },
  {
   "source": [
    "According to the type of undirected graph, the available models can be divided in:\n",
    " - models for binary network: \"cm\" and \"cm_exp\"\n",
    " - models for weighted networks: \"crema\", \"ecm\" and \"ecm_exp\"\n",
    "\n",
    "We will make some examples about both classes of models, lets start from binary models."
   ],
   "cell_type": "markdown",
   "metadata": {}
  },
  {
   "source": [
    "# 1) Binary Models"
   ],
   "cell_type": "markdown",
   "metadata": {}
  },
  {
   "cell_type": "code",
   "execution_count": 2,
   "metadata": {},
   "outputs": [],
   "source": [
    "# Lets load the zachary karate club from networkx\n",
    "g = nx.karate_club_graph()\n",
    "\n",
    "# then we convert it to numpy adjacency matrix, edgelist and degree sequence\n",
    "adj_kar = nx.to_numpy_array(g)\n",
    "edg_kar = nx.to_pandas_edgelist(g).values\n",
    "dseq_kar = np.sum(adj_kar, axis=1)"
   ]
  },
  {
   "source": [
    "UndirectedGraph instance can be initialised using adjacency matrix, edgelist or degree and strength sequences. As an example we initialise a graph instance using the adjacency matrix."
   ],
   "cell_type": "markdown",
   "metadata": {}
  },
  {
   "cell_type": "code",
   "execution_count": 3,
   "metadata": {},
   "outputs": [],
   "source": [
    "graph = UndirectedGraph(adj_kar)"
   ]
  },
  {
   "source": [
    "When you use an initiliasition instance that isn't the adjacency matrix you must specify what you are passing to UndirectedGraph. As an exaple we can use the edgelist."
   ],
   "cell_type": "markdown",
   "metadata": {}
  },
  {
   "cell_type": "code",
   "execution_count": 4,
   "metadata": {},
   "outputs": [],
   "source": [
    "graph = UndirectedGraph(edgelist=edg_kar)"
   ]
  },
  {
   "source": [
    "## 1.1) Null Models"
   ],
   "cell_type": "markdown",
   "metadata": {}
  },
  {
   "source": [
    "Now that our graph instance is initialised lets see what we can do with it. The first example that we consider is how to generate 10 (or more) random versions of zachary karate club having (on average) the same degree sequence of the orginal one. These can be used to compare same properties of the original zachary karate club with their expected value under a random null model preserving the degree sequence."
   ],
   "cell_type": "markdown",
   "metadata": {}
  },
  {
   "cell_type": "code",
   "execution_count": 5,
   "metadata": {},
   "outputs": [
    {
     "output_type": "stream",
     "name": "stdout",
     "text": [
      "The largest error on the degree sequence is  3.7787204476558145e-09\n"
     ]
    }
   ],
   "source": [
    "# Solve tool function solves, for the underlying graph instance, the selected \"model\" using \"method\" and \"initial_guess\" as starting point of the optimization.\n",
    "# When the undirected network you are considering is binary the available model are \n",
    "\n",
    "graph.solve_tool(model=\"cm_exp\",\n",
    "                 method=\"newton\",\n",
    "                 initial_guess=\"random\")\n",
    "\n",
    "# For networks that are not too large (>5000 nodes, but depends on the amount of ram of your laptop) we suggest to use \"newton\" method.\n",
    "# You can che if the optimization process was successful by printing the error attribute. \n",
    "# Pay attention: error attribute is None if you didn't solve any model yet.\n",
    "\n",
    "print(\"The largest error on the degree sequence is \", graph.error)\n",
    "\n",
    "# As you can notice the error is quite small: the optimisation proccess worked properly!"
   ]
  },
  {
   "cell_type": "code",
   "execution_count": 6,
   "metadata": {},
   "outputs": [
    {
     "output_type": "stream",
     "name": "stdout",
     "text": [
      "The largest error on the degree sequence is  6.190089152369183e-08\n"
     ]
    }
   ],
   "source": [
    "# When your netwoork is too large, newton can be too costly in terms of memory and the suggested method is \"fixed-point\".\n",
    "graph.solve_tool(model=\"cm_exp\",\n",
    "                 method=\"fixed-point\",\n",
    "                 initial_guess=\"random\")\n",
    "\n",
    "print(\"The largest error on the degree sequence is \", graph.error)\n",
    "\n",
    "# As you can notice the error is again quite small. For large networks can be better to look at the relative error on the degree sequence instead of the absolute one.\n"
   ]
  },
  {
   "source": [
    "# After that we have solved the model we can use it to generate random versions of zachary karate club.\n",
    "# The ensemble sampler function generates \"n\" random versions of zachary karate club using the model parameters computed by solve_tool.\n",
    "\n",
    "graph.ensemble_sampler(10, cpu_n=2, output_dir=\"sample/\")\n",
    "\n",
    "# In the folder \"sample/\" there are 10 random copies of zachary karate club saved as edgelist."
   ],
   "cell_type": "code",
   "metadata": {},
   "execution_count": 7,
   "outputs": []
  },
  {
   "source": [
    "## 1.2) Graph Reconstruction"
   ],
   "cell_type": "markdown",
   "metadata": {}
  },
  {
   "source": [
    "Suppose now that you have only partial information about the zachary karate club network: only the degree sequence is disclosed. Following the same procedure described above, we can generate generate a network having (on average) the same observed degree sequence."
   ],
   "cell_type": "markdown",
   "metadata": {}
  },
  {
   "cell_type": "code",
   "execution_count": 12,
   "metadata": {},
   "outputs": [],
   "source": [
    "# We initialise the graph instance\n",
    "graph = UndirectedGraph(degree_sequence=dseq_kar)\n",
    "\n",
    "# We solve the binary model\n",
    "graph.solve_tool(model=\"cm_exp\",\n",
    "                 method=\"newton\",\n",
    "                 initial_guess=\"random\")\n",
    "\n",
    "# We generate an ensemble copy\n",
    "graph.ensemble_sampler(1, cpu_n=2, output_dir=\"sample/\")\n",
    "\n",
    "# We read the edgelist\n",
    "edgelist_ens = np.loadtxt(\"sample/0.txt\")\n",
    "\n",
    "# And generate a networkx graph from it\n",
    "G = nx.Graph()\n",
    "G.add_edges_from(edgelist_ens)\n",
    "\n",
    "### ADD network draw"
   ]
  },
  {
   "source": [
    "# 2) Weigthed Models"
   ],
   "cell_type": "markdown",
   "metadata": {}
  },
  {
   "source": [
    "## 2.1) Null Models"
   ],
   "cell_type": "markdown",
   "metadata": {}
  },
  {
   "cell_type": "code",
   "execution_count": 14,
   "metadata": {},
   "outputs": [
    {
     "output_type": "stream",
     "name": "stdout",
     "text": [
      "[18. 26. 21. 17. 16.]\n"
     ]
    }
   ],
   "source": [
    "# First of all we generate the adjacency matrix of a weighted undirected graph using the matrix_generator module of NEMtropy\n",
    "adj_weigh = matrix_generator.random_weighted_matrix_generator_uniform_custom_density(n=100,\n",
    "                                                                                     p=0.2,\n",
    "                                                                                     sym=True,\n",
    "                                                                                     sup_ext=30,\n",
    "                                                                                     intweights=True)\n",
    "\n",
    "# Then we intialise the graph instance\n",
    "graph = UndirectedGraph(adj_weigh)\n",
    "\n",
    "# We can the see the graph sequence of the graph by tapping\n",
    "print(graph.strength_sequence)"
   ]
  },
  {
   "cell_type": "code",
   "execution_count": 15,
   "metadata": {},
   "outputs": [
    {
     "output_type": "execute_result",
     "data": {
      "text/plain": [
       "0.0"
      ]
     },
     "metadata": {},
     "execution_count": 15
    }
   ],
   "source": [
    "(adj_weigh - adj_weigh.T).sum()"
   ]
  },
  {
   "cell_type": "code",
   "execution_count": 16,
   "metadata": {},
   "outputs": [],
   "source": [
    "# Similarly to the binary case, we can solve the weighted model by solve_tool\n",
    "graph.solve_tool(model=\"crema\",\n",
    "                 method=\"newton\",\n",
    "                 initial_guess=\"random\",\n",
    "                 adjacency=\"cm_exp\",\n",
    "                 method_adjacency=\"newton\")\n",
    "\n",
    "# The optimisation problem is divided in two steps: firstly the binary model is solved and its solution are one\n",
    "# of the inputs for the weighted model solver. You can choose the method used for the binary and weighted part separately.\n",
    "# You can even pass an adjacency matrix as imput for the binary part and we will go through this in the next subsection."
   ]
  },
  {
   "cell_type": "code",
   "execution_count": 17,
   "metadata": {},
   "outputs": [
    {
     "output_type": "stream",
     "name": "stdout",
     "text": [
      "5.277365211497909e-10 3.1949554113452905e-10\n"
     ]
    }
   ],
   "source": [
    "# Lets check if the optimisation was successful by printing the errors on the degree and strength sequences\n",
    "print(graph.error_degree, graph.error_strength)"
   ]
  },
  {
   "cell_type": "code",
   "execution_count": 18,
   "metadata": {
    "tags": []
   },
   "outputs": [
    {
     "output_type": "stream",
     "name": "stdout",
     "text": [
      "[0 0 0 0 1 1 1 2 2 3] [1 2 3 4 2 3 4 3 4 4] [1. 1. 1. 1. 1. 1. 1. 1. 1. 1.]\n",
      "(array([0, 0, 0, 0, 1, 1, 1, 2, 2, 3]), array([1, 2, 3, 4, 2, 3, 4, 3, 4, 4]), array([1., 1., 1., 1., 1., 1., 1., 1., 1., 1.]))\n",
      "[0.12958657 0.02618755 0.09328553 0.14433368 0.16086854]\n",
      "[(0, 1, 2.7582905969109186), (0, 2, 7.570280704591799), (0, 3, 2.546418772148606), (0, 4, 7.796724554408366), (1, 2, 16.67538939329002), (1, 3, 1.000149479854949), (1, 4, 5.21404234570331), (2, 3, 9.647935916645704), (2, 4, 1.0458954006470582), (3, 4, 5.521178013036068)]\n",
      "[0 0 0 0 1 1 1 2 2 3] [1 2 3 4 2 3 4 3 4 4] [1. 1. 1. 1. 1. 1. 1. 1. 1. 1.]\n",
      "(array([0, 0, 0, 0, 1, 1, 1, 2, 2, 3]), array([1, 2, 3, 4, 2, 3, 4, 3, 4, 4]), array([1., 1., 1., 1., 1., 1., 1., 1., 1., 1.]))\n",
      "[0.12958657 0.02618755 0.09328553 0.14433368 0.16086854]\n",
      "[(0, 1, 9.185101735993754), (0, 2, 1.938454715747716), (0, 3, 0.4176162618693704), (0, 4, 6.993109020090586), (1, 2, 4.09723797431318), (1, 3, 1.299168612813763), (1, 4, 2.9609381342554295), (2, 3, 2.120294792620088), (2, 4, 2.930154601808179), (3, 4, 0.5036069752386516)]\n",
      "[0 0 0 0 1 1 1 2 2 3] [1 2 3 4 2 3 4 3 4 4] [1. 1. 1. 1. 1. 1. 1. 1. 1. 1.]\n",
      "(array([0, 0, 0, 0, 1, 1, 1, 2, 2, 3]), array([1, 2, 3, 4, 2, 3, 4, 3, 4, 4]), array([1., 1., 1., 1., 1., 1., 1., 1., 1., 1.]))\n",
      "[0.12958657 0.02618755 0.09328553 0.14433368 0.16086854]\n",
      "[(0, 1, 7.819536953337831), (0, 2, 0.9869798067088869), (0, 3, 0.6667184760100462), (0, 4, 7.062753391116415), (1, 2, 1.6026982706638062), (1, 3, 5.0385065345439175), (1, 4, 11.647657660951163), (2, 3, 2.9732197549302306), (2, 4, 0.14494516336089158), (3, 4, 5.096066542389785)]\n",
      "[0 0 0 0 1 1 1 2 2 3] [1 2 3 4 2 3 4 3 4 4] [1. 1. 1. 1. 1. 1. 1. 1. 1. 1.]\n",
      "(array([0, 0, 0, 0, 1, 1, 1, 2, 2, 3]), array([1, 2, 3, 4, 2, 3, 4, 3, 4, 4]), array([1., 1., 1., 1., 1., 1., 1., 1., 1., 1.]))\n",
      "[0.12958657 0.02618755 0.09328553 0.14433368 0.16086854]\n",
      "[(0, 1, 17.708779664079906), (0, 2, 2.341363653093232), (0, 3, 0.5574684156943677), (0, 4, 2.0682969899827226), (1, 2, 0.3936361483878406), (1, 3, 6.394441858767917), (1, 4, 1.7489098721888148), (2, 3, 4.624484375406561), (2, 4, 1.3522209611299416), (3, 4, 10.793134382129448)]\n",
      "[0 0 0 0 1 1 1 2 2 3] [1 2 3 4 2 3 4 3 4 4] [1. 1. 1. 1. 1. 1. 1. 1. 1. 1.]\n",
      "(array([0, 0, 0, 0, 1, 1, 1, 2, 2, 3]), array([1, 2, 3, 4, 2, 3, 4, 3, 4, 4]), array([1., 1., 1., 1., 1., 1., 1., 1., 1., 1.]))\n",
      "[0.12958657 0.02618755 0.09328553 0.14433368 0.16086854]\n",
      "[(0, 1, 15.84904761843574), (0, 2, 0.2344689906941468), (0, 3, 9.948774012276674), (0, 4, 0.9356475574506756), (1, 2, 4.914995936744378), (1, 3, 0.2871174549271708), (1, 4, 3.4088617918491773), (2, 3, 17.636946977898674), (2, 4, 0.5767207630381773), (3, 4, 0.5913980541072106)]\n",
      "[0 0 0 0 1 1 1 2 2 3] [1 2 3 4 2 3 4 3 4 4] [1. 1. 1. 1. 1. 1. 1. 1. 1. 1.]\n",
      "(array([0, 0, 0, 0, 1, 1, 1, 2, 2, 3]), array([1, 2, 3, 4, 2, 3, 4, 3, 4, 4]), array([1., 1., 1., 1., 1., 1., 1., 1., 1., 1.]))\n",
      "[0.12958657 0.02618755 0.09328553 0.14433368 0.16086854]\n",
      "[(0, 1, 5.671527368205148), (0, 2, 2.727145863045168), (0, 3, 1.7441101185685122), (0, 4, 3.3007862643764017), (1, 2, 0.36158319310659987), (1, 3, 6.581047864206456), (1, 4, 4.599234415942527), (2, 3, 13.74571131616669), (2, 4, 1.0998666222699138), (3, 4, 4.533265206439507)]\n",
      "[0 0 0 0 1 1 1 2 2 3] [1 2 3 4 2 3 4 3 4 4] [1. 1. 1. 1. 1. 1. 1. 1. 1. 1.]\n",
      "(array([0, 0, 0, 0, 1, 1, 1, 2, 2, 3]), array([1, 2, 3, 4, 2, 3, 4, 3, 4, 4]), array([1., 1., 1., 1., 1., 1., 1., 1., 1., 1.]))\n",
      "[0.12958657 0.02618755 0.09328553 0.14433368 0.16086854]\n",
      "[(0, 1, 3.6796721104634247), (0, 2, 0.4724723839481171), (0, 3, 2.6406873038828627), (0, 4, 1.411726135035816), (1, 2, 10.88619300899202), (1, 3, 7.217665847289722), (1, 4, 3.224522822988616), (2, 3, 0.6642875320763055), (2, 4, 3.067408610746944), (3, 4, 3.730815641641572)]\n",
      "[0 0 0 0 1 1 1 2 2 3] [1 2 3 4 2 3 4 3 4 4] [1. 1. 1. 1. 1. 1. 1. 1. 1. 1.]\n",
      "(array([0, 0, 0, 0, 1, 1, 1, 2, 2, 3]), array([1, 2, 3, 4, 2, 3, 4, 3, 4, 4]), array([1., 1., 1., 1., 1., 1., 1., 1., 1., 1.]))\n",
      "[0.12958657 0.02618755 0.09328553 0.14433368 0.16086854]\n",
      "[(0, 1, 4.597276345108195), (0, 2, 1.9102880647661675), (0, 3, 1.2865369478220128), (0, 4, 2.3747286056046706), (1, 2, 3.3065032166131103), (1, 3, 1.4277824107044366), (1, 4, 8.590743619962481), (2, 3, 0.8017978312379922), (2, 4, 0.153014012249481), (3, 4, 3.752953158745026)]\n",
      "[0 0 0 0 1 1 1 2 2 3] [1 2 3 4 2 3 4 3 4 4] [1. 1. 1. 1. 1. 1. 1. 1. 1. 1.]\n",
      "(array([0, 0, 0, 0, 1, 1, 1, 2, 2, 3]), array([1, 2, 3, 4, 2, 3, 4, 3, 4, 4]), array([1., 1., 1., 1., 1., 1., 1., 1., 1., 1.]))\n",
      "[0.12958657 0.02618755 0.09328553 0.14433368 0.16086854]\n",
      "[(0, 1, 2.36991084312008), (0, 2, 0.0977181381686056), (0, 3, 2.8200538949433276), (0, 4, 4.326717298064901), (1, 2, 2.381801412668319), (1, 3, 3.6962054878658783), (1, 4, 10.664290409571386), (2, 3, 3.308402836591357), (2, 4, 2.1179227495595776), (3, 4, 1.0399737862872367)]\n",
      "[0 0 0 0 1 1 1 2 2 3] [1 2 3 4 2 3 4 3 4 4] [1. 1. 1. 1. 1. 1. 1. 1. 1. 1.]\n",
      "(array([0, 0, 0, 0, 1, 1, 1, 2, 2, 3]), array([1, 2, 3, 4, 2, 3, 4, 3, 4, 4]), array([1., 1., 1., 1., 1., 1., 1., 1., 1., 1.]))\n",
      "[0.12958657 0.02618755 0.09328553 0.14433368 0.16086854]\n",
      "[(0, 1, 6.630581821094455), (0, 2, 3.8528019226335046), (0, 3, 8.701222022858266), (0, 4, 0.656885939266185), (1, 2, 2.2096348004377595), (1, 3, 1.167273687682686), (1, 4, 4.9028191172682165), (2, 3, 1.1071142608223383), (2, 4, 3.850332127905935), (3, 4, 0.24457754148295818)]\n"
     ]
    }
   ],
   "source": [
    "# Similarly to the binary case, we can generate 10 ensembles copies using ensemble_sampler\n",
    "graph.ensemble_sampler(10, cpu_n=2, output_dir=\"sample/\")"
   ]
  },
  {
   "source": [
    "## 2.2) Reconstruction"
   ],
   "cell_type": "markdown",
   "metadata": {}
  },
  {
   "source": [
    "Suppose you have only partial information about the network, for example:\n",
    " - The binary structure is well-known and you want to assign weights to network edges;\n",
    " - Only marginals information are available: degree and strength sequences.\n",
    "\n",
    "You can use NEMtropy methods to reconstruct a network configuration that is consistent with the available informations."
   ],
   "cell_type": "markdown",
   "metadata": {}
  },
  {
   "source": [
    "### 2.2.1) Adjacency matrix "
   ],
   "cell_type": "markdown",
   "metadata": {}
  },
  {
   "cell_type": "code",
   "execution_count": 2,
   "metadata": {},
   "outputs": [],
   "source": [
    "# For this example we generate the adjacency matrix of a weighted undirected graph using the matrix_generator module of NEMtropy\n",
    "adj_weigh = matrix_generator.random_weighted_matrix_generator_uniform_custom_density(n=100,\n",
    "                                                                                     p=0.2,\n",
    "                                                                                     sym=True,\n",
    "                                                                                     sup_ext=30,\n",
    "                                                                                     intweights=True)\n",
    "\n",
    "# Lets store the binary structure and strength sequence\n",
    "adj_bin = adj_weigh.astype(bool).astype(float)\n",
    "strength_seq = adj_weigh.sum(axis=1)\n",
    "\n",
    "# Now we suppose that the weighted structure is not available\n",
    "del adj_weigh\n",
    "\n",
    "# We can initialiase our graph instance with the strength sequence\n",
    "graph_weighted = UndirectedGraph(strength_sequence=strength_seq)"
   ]
  },
  {
   "cell_type": "code",
   "execution_count": 3,
   "metadata": {},
   "outputs": [],
   "source": [
    "# Then we solve the model using the adjacency binary matrix as an input for the solver\n",
    "graph_weighted.solve_tool(model=\"crema\",\n",
    "                          method=\"newton\",\n",
    "                          initial_guess=\"random\",\n",
    "                          adjacency=adj_bin)\n"
   ]
  },
  {
   "cell_type": "code",
   "execution_count": 5,
   "metadata": {},
   "outputs": [
    {
     "output_type": "stream",
     "name": "stdout",
     "text": [
      "2.73587374977069e-10\n"
     ]
    }
   ],
   "source": [
    "# Lets check if the optimisation was successful by printing the error on strength sequence\n",
    "print(graph_weighted.error_strength)"
   ]
  },
  {
   "cell_type": "code",
   "execution_count": null,
   "metadata": {},
   "outputs": [],
   "source": [
    "# In conclsion we generate a network having the binary structure of \"adj_bin\" and \n",
    "# and weights satisfying (on average) the given \"strength_seq\"\n",
    "graph.ensemble_sampler(1, cpu_n=2, output_dir=\"sample/\")"
   ]
  },
  {
   "source": [
    "### 2.2.2) Only the marginals are available"
   ],
   "cell_type": "markdown",
   "metadata": {}
  },
  {
   "cell_type": "code",
   "execution_count": 7,
   "metadata": {},
   "outputs": [],
   "source": [
    "# As an example we generate the adjacency matrix of a weighted undirected graph using the matrix_generator module of NEMtropy\n",
    "adj_weigh = matrix_generator.random_weighted_matrix_generator_uniform_custom_density(n=100,\n",
    "                                                                                     p=0.2,\n",
    "                                                                                     sym=True,\n",
    "                                                                                     sup_ext=30,\n",
    "                                                                                     intweights=True)\n",
    "\n",
    "# Lets store the binary structure and strength sequence\n",
    "degree_seq = adj_weigh.astype(bool).astype(float).sum(axis=1)\n",
    "strength_seq = adj_weigh.sum(axis=1)\n",
    "\n",
    "# Now we suppose that the weighted structure is not available\n",
    "del adj_weigh\n",
    "\n",
    "# We can initialiase our graph instance with degree and strength sequence\n",
    "graph_weighted = UndirectedGraph(degree_sequence=degree_seq, strength_sequence=strength_seq)"
   ]
  },
  {
   "cell_type": "code",
   "execution_count": 9,
   "metadata": {},
   "outputs": [],
   "source": [
    "# We solve the model, we pass a model as adjacency and the solver will use degree sequence\n",
    "# to infer the binary structure\n",
    "graph_weighted.solve_tool(model=\"crema\",\n",
    "                          method=\"newton\",\n",
    "                          initial_guess=\"random\",\n",
    "                          adjacency=\"cm_exp\",\n",
    "                          method_adjacency=\"newton\")"
   ]
  },
  {
   "cell_type": "code",
   "execution_count": 10,
   "metadata": {},
   "outputs": [
    {
     "output_type": "stream",
     "name": "stdout",
     "text": [
      "1.2218546174835865e-07 6.821210263296962e-13\n"
     ]
    }
   ],
   "source": [
    "# Lets check if the optimisation was successful by printing the errors on strength and degree sequences\n",
    "print(graph_weighted.error_degree, graph_weighted.error_strength)"
   ]
  },
  {
   "cell_type": "code",
   "execution_count": null,
   "metadata": {},
   "outputs": [],
   "source": [
    "# Now we generate a network having a binary structure inferred from dseq\n",
    "# and weights satisfying (on average) the given \"strength_seq\"\n",
    "graph.ensemble_sampler(1, cpu_n=2, output_dir=\"sample/\")\n",
    "\n",
    "### ADD the part were we read the network and plot it"
   ]
  },
  {
   "cell_type": "code",
   "execution_count": null,
   "metadata": {},
   "outputs": [],
   "source": []
  },
  {
   "cell_type": "code",
   "execution_count": null,
   "metadata": {},
   "outputs": [],
   "source": []
  }
 ],
 "metadata": {
  "kernelspec": {
   "display_name": "Python 3",
   "language": "python",
   "name": "python3"
  },
  "language_info": {
   "codemirror_mode": {
    "name": "ipython",
    "version": 3
   },
   "file_extension": ".py",
   "mimetype": "text/x-python",
   "name": "python",
   "nbconvert_exporter": "python",
   "pygments_lexer": "ipython3",
   "version": "3.7.3-final"
  }
 },
 "nbformat": 4,
 "nbformat_minor": 4
}