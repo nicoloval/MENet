{
 "cells": [
  {
   "source": [
    "The aim of the notebook is to help you to take confidence with the directed graph class of NEMtropy. We will guide you through the functionality of the module and they can be use to reconstruct a network given partial information or to generate a null model given a certain network.\n",
    "For more detail about the theory behind this, we suggest you to read ....."
   ],
   "cell_type": "markdown",
   "metadata": {}
  },
  {
   "cell_type": "code",
   "execution_count": 4,
   "metadata": {},
   "outputs": [],
   "source": [
    "import numpy as np\n",
    "import networkx as nx\n",
    "from NEMtropy import DirectedGraph\n",
    "from NEMtropy import matrix_generator as mg"
   ]
  },
  {
   "source": [
    "According to the type of directed graph, the available models can be divided in:\n",
    " - models for binary network: \"dcm\" and \"dcm_exp\"\n",
    " - models for weighted networks: \"crema\", \"decm\" and \"decm_exp\"\n",
    "\n",
    "We will make some examples about both classes of models, lets start from binary models. The use of \"decm\" and \"decm_exp\" models is deprecated."
   ],
   "cell_type": "markdown",
   "metadata": {}
  },
  {
   "source": [
    "# 1) Binary Models"
   ],
   "cell_type": "markdown",
   "metadata": {}
  },
  {
   "cell_type": "code",
   "execution_count": 31,
   "metadata": {},
   "outputs": [],
   "source": [
    "# Lets generated a random directed adjacency matrix\n",
    "# using matrix matrix generator module of NEMtropy\n",
    "aux_adj = mg.random_binary_matrix_generator_custom_density(30,\n",
    "                                                           0.2,\n",
    "                                                           sym=False)\n",
    "\n",
    "# then we convert it to numpy adjacency matrix, edgelist and degree sequence\n",
    "edgelist = [(i,j) for i in range(aux_adj.shape[0]) for j in range(aux_adj.shape[0]) if aux_adj[i,j]!=0]\n",
    "dseq_in = aux_adj.sum(axis=0)\n",
    "dseq_out = aux_adj.sum(axis=1)"
   ]
  },
  {
   "source": [
    "DirectedGraph instance can be initialised using adjacency matrix, edgelist or degree and strength sequences. As an example we initialise a graph instance using the adjacency matrix."
   ],
   "cell_type": "markdown",
   "metadata": {}
  },
  {
   "cell_type": "code",
   "execution_count": 17,
   "metadata": {},
   "outputs": [],
   "source": [
    "graph = DirectedGraph(aux_adj)"
   ]
  },
  {
   "source": [
    "When you use an initiliasition instance that is not the adjacency matrix you must specify what you are passing to DirectedGraph. As an exaple we can use the edgelist."
   ],
   "cell_type": "markdown",
   "metadata": {}
  },
  {
   "cell_type": "code",
   "execution_count": 19,
   "metadata": {},
   "outputs": [],
   "source": [
    "graph = DirectedGraph(edgelist=edgelist)"
   ]
  },
  {
   "source": [
    "## 1.1) Null Models"
   ],
   "cell_type": "markdown",
   "metadata": {}
  },
  {
   "source": [
    "Now that our graph instance is initialised lets see what we can do with it. The first example that we consider is how to generate 10 (or more) random versions of our directed networl having (on average) the same degree sequence of the orginal one. These can be used to compare same properties of the original network with their expected values under a random null model preserving the degree sequence."
   ],
   "cell_type": "markdown",
   "metadata": {}
  },
  {
   "cell_type": "code",
   "execution_count": 24,
   "metadata": {},
   "outputs": [
    {
     "output_type": "stream",
     "name": "stdout",
     "text": [
      "The largest error on the degree sequence is  8.161116227256571e-11\n"
     ]
    }
   ],
   "source": [
    "# Solve tool function solves, for the underlying graph instance, the selected \"model\" using \"method\" and \"initial_guess\" as starting point of the optimization.\n",
    "# When the undirected network you are considering is binary the available model are \n",
    "\n",
    "graph.solve_tool(model=\"dcm_exp\",\n",
    "                 method=\"newton\",\n",
    "                 initial_guess=\"random\")\n",
    "\n",
    "# For networks that are not too large (>5000 nodes, but depends on the amount of ram of your laptop) we suggest to use \"newton\" method.\n",
    "# You can che if the optimization process was successful by printing the error attribute. \n",
    "# Pay attention: error attribute is None if you didn't solve any model yet.\n",
    "\n",
    "print(\"The largest error on the degree sequence is \", graph.error)\n",
    "\n",
    "# As you can notice the error is quite small: the optimisation proccess worked properly!"
   ]
  },
  {
   "cell_type": "code",
   "execution_count": 28,
   "metadata": {},
   "outputs": [
    {
     "output_type": "stream",
     "name": "stdout",
     "text": [
      "The largest error on the degree sequence is  3.090191214027982e-09\n"
     ]
    }
   ],
   "source": [
    "# When your netwoork is too large, newton can be too costly in terms of memory and the suggested method is \"fixed-point\".\n",
    "graph.solve_tool(model=\"dcm_exp\",\n",
    "                 method=\"fixed-point\",\n",
    "                 initial_guess=\"random\")\n",
    "\n",
    "print(\"The largest error on the degree sequence is \", graph.error)\n",
    "\n",
    "# As you can notice the error is again quite small. For large networks can be better to look at the relative error on the degree sequence instead of the absolute one."
   ]
  },
  {
   "cell_type": "code",
   "execution_count": 29,
   "metadata": {},
   "outputs": [],
   "source": [
    "# After that we have solved the model we can use it to generate random versions of zachary karate club.\n",
    "# The ensemble sampler function generates \"n\" random versions of zachary karate club using the model parameters computed by solve_tool.\n",
    "\n",
    "graph.ensemble_sampler(10, cpu_n=2, output_dir=\"sample/\")\n",
    "\n",
    "# In the folder \"sample/\" there are 10 random copies of zachary karate club saved as edgelist."
   ]
  },
  {
   "source": [
    "## 1.2) Graph Reconstruction"
   ],
   "cell_type": "markdown",
   "metadata": {}
  },
  {
   "source": [
    "Suppose now that you have only partial information about yournetwork: only the degree sequence is disclosed. Following the same procedure described above, we can generate generate a network satisfying (on average) the observed degree sequence."
   ],
   "cell_type": "markdown",
   "metadata": {}
  },
  {
   "cell_type": "code",
   "execution_count": 32,
   "metadata": {},
   "outputs": [],
   "source": [
    "# We initialise the graph instance using dseq\n",
    "# Don't forget to concatenate out-degree and in-degree\n",
    "# sequences before passing it. The order is important [out,in]\n",
    "graph = DirectedGraph(degree_sequence=np.concatenate([dseq_out,dseq_in]))\n",
    "\n",
    "# We solve the binary model\n",
    "graph.solve_tool(model=\"dcm_exp\",\n",
    "                 method=\"newton\",\n",
    "                 initial_guess=\"random\")\n",
    "\n",
    "# We generate an ensemble copy\n",
    "graph.ensemble_sampler(1, cpu_n=2, output_dir=\"sample/\")\n",
    "\n",
    "# We read the edgelist\n",
    "edgelist_ens = np.loadtxt(\"sample/0.txt\")\n",
    "\n",
    "# And generate a networkx graph from it\n",
    "G = nx.DiGraph()\n",
    "G.add_edges_from(edgelist_ens)\n",
    "\n",
    "### ADD network draw"
   ]
  },
  {
   "source": [
    "# 2) Weigthed Models"
   ],
   "cell_type": "markdown",
   "metadata": {}
  },
  {
   "source": [
    "## 2.1) Null Models"
   ],
   "cell_type": "markdown",
   "metadata": {}
  },
  {
   "cell_type": "code",
   "execution_count": 36,
   "metadata": {},
   "outputs": [
    {
     "output_type": "stream",
     "name": "stdout",
     "text": [
      "Out strength sequence  [139. 234. 197. 252. 448. 330. 263. 291. 287. 300. 375. 317. 471. 300.\n 328. 309. 331. 230. 348. 200. 314. 338. 338. 407. 238. 260. 233. 346.\n 337. 240. 307. 295. 280. 319. 354. 363. 331. 280. 381. 330. 349. 335.\n 314. 282. 354. 356. 236. 322. 396. 353. 172. 296. 211. 306. 232. 271.\n 385. 302. 393. 182. 220. 179. 364. 314. 300. 313. 312. 281. 382. 291.\n 264. 333. 451. 351. 345. 404. 356. 333. 470. 291. 231. 313. 286. 316.\n 258. 273. 356. 298. 367. 266. 213. 326. 231. 308. 301. 475. 355. 388.\n 185. 183.]\nIn strength sequence  [351. 286. 243. 362. 403. 229. 277. 332. 281. 354. 232. 313. 352. 273.\n 399. 277. 265. 352. 271. 352. 290. 390. 171. 263. 323. 403. 254. 233.\n 358. 307. 285. 428. 310. 377. 218. 280. 329. 362. 311. 336. 290. 353.\n 243. 202. 367. 282. 288. 293. 351. 341. 363. 216. 186. 388. 420. 299.\n 125. 179. 406. 298. 254. 260. 362. 287. 402. 406. 255. 292. 273. 390.\n 287. 348. 315. 357. 299. 342. 300. 205. 376. 358. 275. 260. 246. 426.\n 272. 341. 279. 344. 272. 252. 404. 299. 305. 365. 296. 236. 247. 345.\n 389. 228.]\n"
     ]
    }
   ],
   "source": [
    "# First of all we generate the adjacency matrix of a weighted undirected graph using the matrix_generator module of NEMtropy\n",
    "adj_weigh = mg.random_weighted_matrix_generator_uniform_custom_density(n=100,\n",
    "                                                                                     p=0.2,\n",
    "                                                                                     sym=False,\n",
    "                                                                                     sup_ext=30,\n",
    "                                                                                     intweights=True)\n",
    "\n",
    "# Then we intialise the graph instance\n",
    "graph = DirectedGraph(adj_weigh)\n",
    "\n",
    "# We can the see the graph sequence of the graph by tapping\n",
    "print(\"Out strength sequence \",graph.out_strength)\n",
    "print(\"In strength sequence \",graph.in_strength)"
   ]
  },
  {
   "cell_type": "code",
   "execution_count": 38,
   "metadata": {},
   "outputs": [],
   "source": [
    "# Similarly to the binary case, we can solve the weighted model by solve_tool\n",
    "graph.solve_tool(model=\"crema\",\n",
    "                 method=\"newton\",\n",
    "                 initial_guess=\"random\",\n",
    "                 adjacency=\"dcm_exp\",\n",
    "                 method_adjacency=\"newton\")\n",
    "\n",
    "# The optimisation problem is divided in two steps: firstly the binary model is solved and its solution are one\n",
    "# of the inputs for the weighted model solver. You can choose the method used for the binary and weighted part separately.\n",
    "# You can even pass an adjacency matrix as imput for the binary part and we will go through this in the next subsection."
   ]
  },
  {
   "cell_type": "code",
   "execution_count": 39,
   "metadata": {},
   "outputs": [
    {
     "output_type": "stream",
     "name": "stdout",
     "text": [
      "9.059863970151127e-10 2.5487736365903402e-08\n"
     ]
    }
   ],
   "source": [
    "# Lets check if the optimisation was successful by printing the errors on the degree and strength sequences\n",
    "print(graph.error_degree, graph.error_strength)"
   ]
  },
  {
   "cell_type": "code",
   "execution_count": null,
   "metadata": {},
   "outputs": [],
   "source": [
    "# Similarly to the binary case, we can generate 10 ensembles copies using ensemble_sampler\n",
    "graph.ensemble_sampler(10, cpu_n=2, output_dir=\"sample/\")"
   ]
  },
  {
   "source": [
    "## 2.2) Reconstruction"
   ],
   "cell_type": "markdown",
   "metadata": {}
  },
  {
   "source": [
    "Suppose you have only partial information about the network, for example:\n",
    " - The binary structure is well-known and you want to assign weights to network edges;\n",
    " - Only marginals information are available: degree and strength sequences.\n",
    "\n",
    "You can use NEMtropy methods to reconstruct a network configuration that is consistent with the available informations."
   ],
   "cell_type": "markdown",
   "metadata": {}
  },
  {
   "source": [
    "### 2.2.1) Adjacency matrix "
   ],
   "cell_type": "markdown",
   "metadata": {}
  },
  {
   "cell_type": "code",
   "execution_count": 44,
   "metadata": {},
   "outputs": [],
   "source": [
    "# For this example we generate the adjacency matrix of a weighted directed graph using the matrix_generator module of NEMtropy\n",
    "adj_weigh = mg.random_weighted_matrix_generator_uniform_custom_density(n=100,\n",
    "                                                                                     p=0.2,\n",
    "                                                                                     sym=False,\n",
    "                                                                                     sup_ext=30,\n",
    "                                                                                     intweights=True)\n",
    "\n",
    "# Lets store the binary structure and strength sequence\n",
    "adj_bin = adj_weigh.astype(bool).astype(float)\n",
    "out_strength = adj_weigh.sum(axis=1)\n",
    "in_strength = adj_weigh.sum(axis=0)\n",
    "\n",
    "# Now we suppose that the weighted structure is not available\n",
    "del adj_weigh\n",
    "\n",
    "# We can initialiase our graph instance with the strength sequence\n",
    "graph_weighted = DirectedGraph(strength_sequence=np.concatenate([out_strength, in_strength]))"
   ]
  },
  {
   "cell_type": "code",
   "execution_count": 45,
   "metadata": {},
   "outputs": [],
   "source": [
    "# Then we solve the model using the adjacency binary matrix as an input for the solver\n",
    "graph_weighted.solve_tool(model=\"crema\",\n",
    "                          method=\"newton\",\n",
    "                          initial_guess=\"random\",\n",
    "                          adjacency=adj_bin)"
   ]
  },
  {
   "cell_type": "code",
   "execution_count": 46,
   "metadata": {},
   "outputs": [
    {
     "output_type": "stream",
     "name": "stdout",
     "text": [
      "1.7053025658242404e-13\n"
     ]
    }
   ],
   "source": [
    "# Lets check if the optimisation was successful by printing the error on strength sequence\n",
    "print(graph_weighted.error_strength)"
   ]
  },
  {
   "cell_type": "code",
   "execution_count": null,
   "metadata": {},
   "outputs": [],
   "source": [
    "# Finally we generate a network having the binary structure of \"adj_bin\" and \n",
    "# and weights satisfying (on average) the given \"strength_seq\"\n",
    "graph.ensemble_sampler(1, cpu_n=2, output_dir=\"sample/\")"
   ]
  },
  {
   "source": [
    "### 2.2.2) Only the marginals are available"
   ],
   "cell_type": "markdown",
   "metadata": {}
  },
  {
   "cell_type": "code",
   "execution_count": 48,
   "metadata": {},
   "outputs": [],
   "source": [
    "# As an example we generate the adjacency matrix of a weighted directed graph using the matrix_generator module of NEMtropy\n",
    "adj_weigh = mg.random_weighted_matrix_generator_uniform_custom_density(n=100,\n",
    "                                                                                     p=0.2,\n",
    "                                                                                     sym=False,\n",
    "                                                                                     sup_ext=30,\n",
    "                                                                                     intweights=True)\n",
    "\n",
    "# Lets store the binary structure and strength sequence\n",
    "out_degree = adj_weigh.astype(bool).astype(float).sum(axis=1)\n",
    "in_degree = adj_weigh.astype(bool).astype(float).sum(axis=0)\n",
    "out_strength = adj_weigh.sum(axis=1)\n",
    "in_strength = adj_weigh.sum(axis=0)\n",
    "\n",
    "# Now we suppose that the weighted structure is not available\n",
    "del adj_weigh\n",
    "\n",
    "# We can initialiase our graph instance with degree and strength sequence\n",
    "graph_weighted = DirectedGraph(degree_sequence=np.concatenate([out_degree, in_degree]),\n",
    "                               strength_sequence=np.concatenate([out_strength, in_strength]))"
   ]
  },
  {
   "cell_type": "code",
   "execution_count": 51,
   "metadata": {},
   "outputs": [],
   "source": [
    "# We solve the model, we pass a model as adjacency and the solver will use degree sequence\n",
    "# to infer the binary structure\n",
    "graph_weighted.solve_tool(model=\"crema\",\n",
    "                          method=\"newton\",\n",
    "                          initial_guess=\"random\",\n",
    "                          adjacency=\"dcm_exp\",\n",
    "                          method_adjacency=\"newton\")"
   ]
  },
  {
   "cell_type": "code",
   "execution_count": 52,
   "metadata": {},
   "outputs": [
    {
     "output_type": "stream",
     "name": "stdout",
     "text": [
      "2.1316282072803006e-14 0.0003549837721266158\n"
     ]
    }
   ],
   "source": [
    "# Lets check if the optimisation was successful by printing the errors on strength and degree sequences\n",
    "print(graph_weighted.error_degree, graph_weighted.error_strength)"
   ]
  },
  {
   "cell_type": "code",
   "execution_count": null,
   "metadata": {},
   "outputs": [],
   "source": [
    "# Now we generate a network having a binary structure inferred from dseq\n",
    "# and weights satisfying (on average) the given \"strength_seq\"\n",
    "graph.ensemble_sampler(1, cpu_n=2, output_dir=\"sample/\")\n",
    "\n",
    "### ADD the part were we read the network and plot it"
   ]
  }
 ],
 "metadata": {
  "kernelspec": {
   "display_name": "Python 3",
   "language": "python",
   "name": "python3"
  },
  "language_info": {
   "codemirror_mode": {
    "name": "ipython",
    "version": 3
   },
   "file_extension": ".py",
   "mimetype": "text/x-python",
   "name": "python",
   "nbconvert_exporter": "python",
   "pygments_lexer": "ipython3",
   "version": "3.7.3-final"
  }
 },
 "nbformat": 4,
 "nbformat_minor": 4
}